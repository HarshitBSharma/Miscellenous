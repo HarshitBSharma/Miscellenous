{
  "nbformat": 4,
  "nbformat_minor": 0,
  "metadata": {
    "colab": {
      "name": "Misc Codes.ipynb",
      "version": "0.3.2",
      "provenance": [],
      "include_colab_link": true
    },
    "kernelspec": {
      "name": "python3",
      "display_name": "Python 3"
    }
  },
  "cells": [
    {
      "cell_type": "markdown",
      "metadata": {
        "id": "view-in-github",
        "colab_type": "text"
      },
      "source": [
        "<a href=\"https://colab.research.google.com/github/sharmaharshit4262/Miscellenous/blob/master/Misc_Codes.ipynb\" target=\"_parent\"><img src=\"https://colab.research.google.com/assets/colab-badge.svg\" alt=\"Open In Colab\"/></a>"
      ]
    },
    {
      "cell_type": "code",
      "metadata": {
        "id": "j8bIvXtcS9zM",
        "colab_type": "code",
        "colab": {}
      },
      "source": [
        "import datetime\n"
      ],
      "execution_count": 0,
      "outputs": []
    },
    {
      "cell_type": "code",
      "metadata": {
        "id": "TwtUoW_QTCuP",
        "colab_type": "code",
        "outputId": "8cdf5120-84fc-404d-909d-3c96a31fc91d",
        "colab": {
          "base_uri": "https://localhost:8080/",
          "height": 202
        }
      },
      "source": [
        "\n",
        "name, age = input(\"Enter your name and age\\n\").split()\n",
        "age = int(age)\n",
        "now = datetime.datetime.now()\n",
        "message = \"Hi {}, you will turn 100 in the year {}\\n\".format(name, now.year + (100-age))\n",
        "print(message)\n",
        "x = int(input(\"Enter Number of times to repeat message\"))\n",
        "print(message * x)"
      ],
      "execution_count": 0,
      "outputs": [
        {
          "output_type": "stream",
          "text": [
            "Enter your name and age\n",
            "Harshit 23\n",
            "Hi Harshit, you will turn 100 in the year 2096\n",
            "\n",
            "Enter Number of times to repeat message5\n",
            "Hi Harshit, you will turn 100 in the year 2096\n",
            "Hi Harshit, you will turn 100 in the year 2096\n",
            "Hi Harshit, you will turn 100 in the year 2096\n",
            "Hi Harshit, you will turn 100 in the year 2096\n",
            "Hi Harshit, you will turn 100 in the year 2096\n",
            "\n"
          ],
          "name": "stdout"
        }
      ]
    },
    {
      "cell_type": "code",
      "metadata": {
        "id": "bfWXfP67QS-j",
        "colab_type": "code",
        "outputId": "947222b2-0993-444b-9299-238b9d9d8410",
        "colab": {
          "base_uri": "https://localhost:8080/",
          "height": 84
        }
      },
      "source": [
        "#List Program\n",
        "x = input(\"Enter a list\")\n",
        "y = []\n",
        "for _ in x.split():\n",
        "    y.append(int(_))\n",
        "#print(y)\n",
        "\n",
        "#print([object for object in y if object > 5])\n",
        "\n",
        "a =int(input(\"Enter the number you want the elements of list to be greater than\"))\n",
        "\n",
        "print([object for object in y if object > a])\n",
        "fruits = [\"banana\", \"orange\", \"pinapple\", \"banana\"]\n",
        "\n",
        "print([object for object in fruits if object == \"banana\"])\n",
        "\n"
      ],
      "execution_count": 0,
      "outputs": [
        {
          "output_type": "stream",
          "text": [
            "Enter a list123 54 88 95 62 54 9616 \n",
            "Enter the number you want the elements of list to be greater than7\n",
            "[123, 54, 88, 95, 62, 54, 9616]\n",
            "['banana', 'banana']\n"
          ],
          "name": "stdout"
        }
      ]
    },
    {
      "cell_type": "code",
      "metadata": {
        "id": "f7rTeSTzUgUF",
        "colab_type": "code",
        "colab": {}
      },
      "source": [
        "# Finding out divisors of a number\n",
        "def divisors(x):\n",
        "    flag = True\n",
        "    while flag:\n",
        "\n",
        "        try:\n",
        "            \n",
        "            flag = False\n",
        "        except ValueError:\n",
        "            print(\"Please Enter a valid Number\")\n",
        "    y = []      \n",
        "    for object in range(2, int((x/2) + 1)):\n",
        "        if x % object == 0:\n",
        "            y.append(object)\n",
        "    if y == []:\n",
        "        print(\"{} is a prime Number\".format(x))\n",
        "    else:\n",
        "        print(\"Divisors of {} are {}\".format(x, y))\n",
        "\n"
      ],
      "execution_count": 0,
      "outputs": []
    },
    {
      "cell_type": "code",
      "metadata": {
        "id": "qGkn97WgXPP4",
        "colab_type": "code",
        "outputId": "9f8e983d-05bb-4ade-c838-16bca14a6e4f",
        "colab": {
          "base_uri": "https://localhost:8080/",
          "height": 50
        }
      },
      "source": [
        "#Print common of two lists without repeated elements\n",
        "import random\n",
        "#a = range(1, random.randint(10, 56))\n",
        "#b = range(1, random.randint(12,23))\n",
        "a = [1, 1, 2, 3, 5, 8, 13, 21, 34, 55, 89]\n",
        "b = [1, 2, 3, 4, 5, 6, 7, 8, 9, 10, 11, 12, 13]\n",
        "print(a,b)\n",
        "c = []\n",
        "\n",
        "for number in a:\n",
        "    if number in b:\n",
        "        if number not in c:\n",
        "            c.append(number)\n",
        "            \n",
        "print(c)"
      ],
      "execution_count": 0,
      "outputs": [
        {
          "output_type": "stream",
          "text": [
            "[1, 1, 2, 3, 5, 8, 13, 21, 34, 55, 89] [1, 2, 3, 4, 5, 6, 7, 8, 9, 10, 11, 12, 13]\n",
            "[1, 2, 3, 5, 8, 13]\n"
          ],
          "name": "stdout"
        }
      ]
    },
    {
      "cell_type": "code",
      "metadata": {
        "id": "Jjs_nIEicpe0",
        "colab_type": "code",
        "outputId": "3b3b993e-7c00-421c-b611-8bb07a1fdcba",
        "colab": {
          "base_uri": "https://localhost:8080/",
          "height": 67
        }
      },
      "source": [
        "#Pallindrome\n",
        "x = input(\"Enter a string\\n\")\n",
        "if x == x[::-1]:\n",
        "    print(\"{} is pallindrome\".format(x))\n",
        "    \n",
        "else:\n",
        "    print(\"{} is not pallindrome\".format(x))"
      ],
      "execution_count": 0,
      "outputs": [
        {
          "output_type": "stream",
          "text": [
            "Enter a string\n",
            "yay\n",
            "yay is pallindrome\n"
          ],
          "name": "stdout"
        }
      ]
    },
    {
      "cell_type": "code",
      "metadata": {
        "id": "x8KRy6E3eGOf",
        "colab_type": "code",
        "outputId": "2f510e61-ccb8-4eea-ca9d-802fd38b4b48",
        "colab": {
          "base_uri": "https://localhost:8080/",
          "height": 34
        }
      },
      "source": [
        "#Print out even elements in a list\n",
        "x = [1, 5, 6, 9, 8 , 44, 44, 26, 98, 64, 987, 84]\n",
        "print([_ for _ in x if _ % 2 == 0])\n"
      ],
      "execution_count": 0,
      "outputs": [
        {
          "output_type": "stream",
          "text": [
            "[6, 8, 44, 44, 26, 98, 64, 84]\n"
          ],
          "name": "stdout"
        }
      ]
    },
    {
      "cell_type": "code",
      "metadata": {
        "id": "S3-M3n3CeGfB",
        "colab_type": "code",
        "outputId": "20e23662-8aaf-4ccc-b230-cf5f3b06a4e4",
        "colab": {
          "base_uri": "https://localhost:8080/",
          "height": 50
        }
      },
      "source": [
        "# A game of rock paper scissors\n",
        "\"\"\"\n",
        "1: Rock\n",
        "2: Paper\n",
        "3: Scissors\n",
        "\"\"\"\n",
        "\"\"\"class RockPaperScissors():\n",
        "    def __init__(self):\n",
        "        self.player1\n",
        "        self.player2\n",
        "    def play(self, player1, player2):\n",
        "        self.player1 = player1\n",
        "        self.player2 = player2\n",
        "        if self.player1 = \"\"\"\n",
        "\n",
        "\n",
        "p1, p2 = input(\"Enter your plays (r/p/s)\").split()\n",
        "if p1.lower() == p2.lower():\n",
        "    print(\"Its a tie\")\n",
        "elif p1 == \"r\":\n",
        "    if p2 == \"s\":\n",
        "        print(\"P1 Wins\")\n",
        "    else:\n",
        "        print(\"P2 Wins\")\n",
        "elif p1 == \"p\":\n",
        "    if p2 == \"s\":\n",
        "        print(\"P2 wins\")\n",
        "    else:\n",
        "        print(\"P1 Wins\")\n",
        "        \n",
        "elif p1 == \"s\":\n",
        "    if p2 ==\"r\":\n",
        "        print(\"P2 wins\")\n",
        "    else:\n",
        "        print(\"P1 Wins\")"
      ],
      "execution_count": 0,
      "outputs": [
        {
          "output_type": "stream",
          "text": [
            "Enter your plays (r/p/s)p p\n",
            "Its a tie\n"
          ],
          "name": "stdout"
        }
      ]
    },
    {
      "cell_type": "code",
      "metadata": {
        "id": "riTjCTABrd10",
        "colab_type": "code",
        "outputId": "3df03f28-cca0-499b-f073-a66079ba2728",
        "colab": {
          "base_uri": "https://localhost:8080/",
          "height": 151
        }
      },
      "source": [
        "#Guessing Game\n",
        "import random\n",
        "\"\"\"class GuessGame():\n",
        "    #def __init__(self):\n",
        "        \n",
        "      \n",
        "    def play(self, guess):\n",
        "        self.guess = guess\n",
        "        \n",
        "        \"\"\"\n",
        "x = random.randint(1,10)\n",
        "print(x)\n",
        "\n",
        "choice = True\n",
        "while choice:\n",
        "    flag = True\n",
        "    while flag:\n",
        "        guess = int(input(\"Enter a guess between 0 and 9\"))\n",
        "        if guess > x:\n",
        "            print(\"oops, you guessed too high\")\n",
        "        elif guess < x:\n",
        "            print(\"Oops, you guessed too low\")\n",
        "        else:\n",
        "            print(\"Correct, the Number was {}\".format(x))\n",
        "            flag = False\n",
        "    \n",
        "    ch = input(\"Do you want to play again? (Y?N)\")\n",
        "    if ch == \"N\" or ch == \"n\":\n",
        "        choice = False\n",
        "        \n",
        "        "
      ],
      "execution_count": 0,
      "outputs": [
        {
          "output_type": "stream",
          "text": [
            "5\n",
            "Enter a guess between 0 and 99\n",
            "oops, you guessed too high\n",
            "Enter a guess between 0 and 91\n",
            "Oops, you guessed too low\n",
            "Enter a guess between 0 and 95\n",
            "Correct, the Number was 5\n",
            "Do you want to play again? (Y?N)n\n"
          ],
          "name": "stdout"
        }
      ]
    },
    {
      "cell_type": "code",
      "metadata": {
        "id": "0mpLghVjs4_N",
        "colab_type": "code",
        "outputId": "dc102362-b3c7-4088-9533-bc57cbd016c2",
        "colab": {
          "base_uri": "https://localhost:8080/",
          "height": 34
        }
      },
      "source": [
        "divisors(64657)"
      ],
      "execution_count": 0,
      "outputs": [
        {
          "output_type": "stream",
          "text": [
            "Divisors of 64657 are [19, 41, 83, 779, 1577, 3403]\n"
          ],
          "name": "stdout"
        }
      ]
    },
    {
      "cell_type": "code",
      "metadata": {
        "id": "OZur5PUqzmV8",
        "colab_type": "code",
        "colab": {}
      },
      "source": [
        ""
      ],
      "execution_count": 0,
      "outputs": []
    }
  ]
}